{
 "cells": [
  {
   "cell_type": "code",
   "execution_count": 1,
   "metadata": {},
   "outputs": [],
   "source": [
    "import numpy as np\n",
    "import pandas as pd\n",
    "import datetime\n",
    "import csv\n",
    "import re\n",
    "import string\n",
    "import pickle\n",
    "\n",
    "import matplotlib.pyplot as plt\n",
    "import seaborn as sns\n",
    "\n",
    "import nltk\n",
    "from nltk.corpus import stopwords\n",
    "import spacy\n",
    "\n",
    "import pattern\n",
    "from pattern.en import lemma, lexeme\n",
    "\n",
    "from wordcloud import WordCloud, STOPWORDS"
   ]
  },
  {
   "cell_type": "code",
   "execution_count": 2,
   "metadata": {},
   "outputs": [
    {
     "data": {
      "text/html": [
       "<div>\n",
       "<style scoped>\n",
       "    .dataframe tbody tr th:only-of-type {\n",
       "        vertical-align: middle;\n",
       "    }\n",
       "\n",
       "    .dataframe tbody tr th {\n",
       "        vertical-align: top;\n",
       "    }\n",
       "\n",
       "    .dataframe thead th {\n",
       "        text-align: right;\n",
       "    }\n",
       "</style>\n",
       "<table border=\"1\" class=\"dataframe\">\n",
       "  <thead>\n",
       "    <tr style=\"text-align: right;\">\n",
       "      <th></th>\n",
       "      <th>rating</th>\n",
       "      <th>date</th>\n",
       "      <th>variation</th>\n",
       "      <th>verified_reviews</th>\n",
       "      <th>feedback</th>\n",
       "      <th>length</th>\n",
       "      <th>reviews</th>\n",
       "    </tr>\n",
       "  </thead>\n",
       "  <tbody>\n",
       "    <tr>\n",
       "      <th>0</th>\n",
       "      <td>5</td>\n",
       "      <td>31-Jul-18</td>\n",
       "      <td>Charcoal Fabric</td>\n",
       "      <td>Love my Echo!</td>\n",
       "      <td>1</td>\n",
       "      <td>13</td>\n",
       "      <td>love echo</td>\n",
       "    </tr>\n",
       "    <tr>\n",
       "      <th>1</th>\n",
       "      <td>5</td>\n",
       "      <td>31-Jul-18</td>\n",
       "      <td>Charcoal Fabric</td>\n",
       "      <td>Loved it!</td>\n",
       "      <td>1</td>\n",
       "      <td>9</td>\n",
       "      <td>love</td>\n",
       "    </tr>\n",
       "    <tr>\n",
       "      <th>2</th>\n",
       "      <td>4</td>\n",
       "      <td>31-Jul-18</td>\n",
       "      <td>Walnut Finish</td>\n",
       "      <td>Sometimes while playing a game, you can answer...</td>\n",
       "      <td>1</td>\n",
       "      <td>195</td>\n",
       "      <td>sometimes play game answer question correctly ...</td>\n",
       "    </tr>\n",
       "    <tr>\n",
       "      <th>3</th>\n",
       "      <td>5</td>\n",
       "      <td>31-Jul-18</td>\n",
       "      <td>Charcoal Fabric</td>\n",
       "      <td>I have had a lot of fun with this thing. My 4 ...</td>\n",
       "      <td>1</td>\n",
       "      <td>172</td>\n",
       "      <td>lot fun thing yr old learn dinosaur control li...</td>\n",
       "    </tr>\n",
       "    <tr>\n",
       "      <th>4</th>\n",
       "      <td>5</td>\n",
       "      <td>31-Jul-18</td>\n",
       "      <td>Charcoal Fabric</td>\n",
       "      <td>Music</td>\n",
       "      <td>1</td>\n",
       "      <td>5</td>\n",
       "      <td>music</td>\n",
       "    </tr>\n",
       "  </tbody>\n",
       "</table>\n",
       "</div>"
      ],
      "text/plain": [
       "   rating       date         variation  \\\n",
       "0       5  31-Jul-18  Charcoal Fabric    \n",
       "1       5  31-Jul-18  Charcoal Fabric    \n",
       "2       4  31-Jul-18    Walnut Finish    \n",
       "3       5  31-Jul-18  Charcoal Fabric    \n",
       "4       5  31-Jul-18  Charcoal Fabric    \n",
       "\n",
       "                                    verified_reviews  feedback  length  \\\n",
       "0                                      Love my Echo!         1      13   \n",
       "1                                          Loved it!         1       9   \n",
       "2  Sometimes while playing a game, you can answer...         1     195   \n",
       "3  I have had a lot of fun with this thing. My 4 ...         1     172   \n",
       "4                                              Music         1       5   \n",
       "\n",
       "                                             reviews  \n",
       "0                                          love echo  \n",
       "1                                               love  \n",
       "2  sometimes play game answer question correctly ...  \n",
       "3  lot fun thing yr old learn dinosaur control li...  \n",
       "4                                              music  "
      ]
     },
     "execution_count": 2,
     "metadata": {},
     "output_type": "execute_result"
    }
   ],
   "source": [
    "with open('alexa_cleaned.pkl','rb') as read_file:\n",
    "    alexa_df = pickle.load(read_file)\n",
    "\n",
    "alexa_df.head()"
   ]
  },
  {
   "cell_type": "code",
   "execution_count": 3,
   "metadata": {
    "scrolled": false
   },
   "outputs": [
    {
     "data": {
      "text/plain": [
       "Black  Dot                      516\n",
       "Charcoal Fabric                 430\n",
       "Configuration: Fire TV Stick    350\n",
       "Black  Plus                     270\n",
       "Black  Show                     265\n",
       "Black                           261\n",
       "Black  Spot                     241\n",
       "White  Dot                      184\n",
       "Heather Gray Fabric             157\n",
       "White  Spot                     109\n",
       "White                            91\n",
       "Sandstone Fabric                 90\n",
       "White  Show                      85\n",
       "White  Plus                      78\n",
       "Oak Finish                       14\n",
       "Walnut Finish                     9\n",
       "Name: variation, dtype: int64"
      ]
     },
     "execution_count": 3,
     "metadata": {},
     "output_type": "execute_result"
    }
   ],
   "source": [
    "alexa_df['variation'].value_counts()"
   ]
  },
  {
   "cell_type": "code",
   "execution_count": 4,
   "metadata": {},
   "outputs": [],
   "source": [
    "alexa_df = alexa_df[alexa_df['variation']!='Configuration: Fire TV Stick ']"
   ]
  },
  {
   "cell_type": "code",
   "execution_count": 5,
   "metadata": {},
   "outputs": [],
   "source": [
    "#remove accessory\n",
    "\n",
    "alexa_df = alexa_df[alexa_df['variation']!='Configuration: Fire TV Stick']"
   ]
  },
  {
   "cell_type": "code",
   "execution_count": 6,
   "metadata": {},
   "outputs": [],
   "source": [
    "## echo dot vs echo vs echo spot vs echo plus vs echo show (maybe)\n",
    "\n",
    "# echo dots\n",
    "# echo dot = black dot, charcoal fabric, white dot\n",
    "alexa_df['variation'] = alexa_df['variation'].replace('Black  Dot', 'Echo Dot')\n",
    "alexa_df['variation'] = alexa_df['variation'].replace('White  Dot', 'Echo Dot')\n",
    "\n",
    "# echo \n",
    "# echo = oak finish, walnut finish, black, heather grey fabric, white, sandstone fabric\n",
    "alexa_df['variation'] = alexa_df['variation'].replace('Oak Finish ', 'Echo')\n",
    "alexa_df['variation'] = alexa_df['variation'].replace('Walnut Finish ', 'Echo')\n",
    "alexa_df['variation'] = alexa_df['variation'].replace('Black', 'Echo')\n",
    "alexa_df['variation'] = alexa_df['variation'].replace('White', 'Echo')\n",
    "alexa_df['variation'] = alexa_df['variation'].replace('Sandstone Fabric ', 'Echo')\n",
    "alexa_df['variation'] = alexa_df['variation'].replace('Charcoal Fabric ', 'Echo')\n",
    "alexa_df['variation'] = alexa_df['variation'].replace('Heather Gray Fabric ', 'Echo')\n",
    "\n",
    "# echo plus\n",
    "# echo plus = black plus, white plus,\n",
    "alexa_df['variation'] = alexa_df['variation'].replace('Black  Plus', 'Echo Plus')\n",
    "alexa_df['variation'] = alexa_df['variation'].replace('White  Plus', 'Echo Plus')\n",
    "\n",
    "# echo spot\n",
    "# echo spot = black spot, white spot\n",
    "alexa_df['variation'] = alexa_df['variation'].replace('Black  Spot', 'Echo Spot')\n",
    "alexa_df['variation'] = alexa_df['variation'].replace('White  Spot', 'Echo Spot')\n",
    "\n",
    "#echo show = black show, white show \n",
    "alexa_df['variation'] = alexa_df['variation'].replace('Black  Show', 'Echo Show')\n",
    "alexa_df['variation'] = alexa_df['variation'].replace('White  Show', 'Echo Show')\n"
   ]
  },
  {
   "cell_type": "code",
   "execution_count": 7,
   "metadata": {},
   "outputs": [
    {
     "data": {
      "text/plain": [
       "Echo         1052\n",
       "Echo Dot      700\n",
       "Echo Spot     350\n",
       "Echo Show     350\n",
       "Echo Plus     348\n",
       "Name: variation, dtype: int64"
      ]
     },
     "execution_count": 7,
     "metadata": {},
     "output_type": "execute_result"
    }
   ],
   "source": [
    "alexa_df['variation'].value_counts()"
   ]
  },
  {
   "cell_type": "code",
   "execution_count": 8,
   "metadata": {},
   "outputs": [],
   "source": [
    "pickle.dump(alexa_df, open(\"alexa_grouped.pkl\", \"wb\" ))"
   ]
  },
  {
   "cell_type": "code",
   "execution_count": 9,
   "metadata": {},
   "outputs": [
    {
     "data": {
      "image/png": "[encoded data removed]",
      "text/plain": [
       "<Figure size 864x504 with 1 Axes>"
      ]
     },
     "metadata": {
      "needs_background": "light"
     },
     "output_type": "display_data"
    }
   ],
   "source": [
    "# color = plt.cm.bone(np.linspace(0, 1, 7))\n",
    "ax = alexa_df['variation'].value_counts().plot.bar(color='#7c86ac', figsize = (12, 7))\n",
    "\n",
    "plt.title('Distribution of Variations in Alexa', fontsize = 20, weight='bold')\n",
    "# plt.xlabel('variations', fontsize = 14)\n",
    "plt.ylabel('Count', fontsize=16)\n",
    "\n",
    "plt.xticks(rotation='45', fontsize=12)\n",
    "plt.yticks(fontsize=14)\n",
    "\n",
    "ax.spines['right'].set_visible(False)\n",
    "ax.spines['top'].set_visible(False)\n",
    "ax.spines['bottom'].set_visible(True)\n",
    "ax.spines['left'].set_visible(True)\n",
    "\n",
    "plt.show()\n",
    "\n",
    "# https://matplotlib.org/3.1.0/tutorials/colors/colormaps.html"
   ]
  },
  {
   "cell_type": "code",
   "execution_count": 10,
   "metadata": {},
   "outputs": [
    {
     "data": {
      "image/png": "[encoded data removed]",
      "text/plain": [
       "<Figure size 720x432 with 1 Axes>"
      ]
     },
     "metadata": {
      "needs_background": "light"
     },
     "output_type": "display_data"
    }
   ],
   "source": [
    "group = alexa_df.groupby('rating').count()\n",
    "group['date']\n",
    "\n",
    "color = plt.cm.bone(np.linspace(0, 1, 6))\n",
    "ax = group['date'].plot.bar(color='#7c86ac', figsize = (10, 6))\n",
    "\n",
    "plt.title('Amount of Ratings', fontsize = 20, weight='bold')\n",
    "plt.xlabel('Ratings', fontsize = 16, weight='bold')\n",
    "plt.ylabel('Count', fontsize=16, weight='bold')\n",
    "\n",
    "plt.xticks(rotation='0', fontsize=14)\n",
    "plt.yticks(fontsize=14)\n",
    "\n",
    "ax.spines['right'].set_visible(False)\n",
    "ax.spines['top'].set_visible(False)\n",
    "ax.spines['bottom'].set_visible(True)\n",
    "ax.spines['left'].set_visible(True)\n",
    "\n",
    "plt.show()\n",
    "\n",
    "#change colour"
   ]
  },
  {
   "cell_type": "markdown",
   "metadata": {},
   "source": [
    "### Splitting things up"
   ]
  },
  {
   "cell_type": "code",
   "execution_count": 11,
   "metadata": {
    "scrolled": false
   },
   "outputs": [
    {
     "data": {
      "text/html": [
       "<div>\n",
       "<style scoped>\n",
       "    .dataframe tbody tr th:only-of-type {\n",
       "        vertical-align: middle;\n",
       "    }\n",
       "\n",
       "    .dataframe tbody tr th {\n",
       "        vertical-align: top;\n",
       "    }\n",
       "\n",
       "    .dataframe thead th {\n",
       "        text-align: right;\n",
       "    }\n",
       "</style>\n",
       "<table border=\"1\" class=\"dataframe\">\n",
       "  <thead>\n",
       "    <tr style=\"text-align: right;\">\n",
       "      <th></th>\n",
       "      <th>rating</th>\n",
       "      <th>date</th>\n",
       "      <th>variation</th>\n",
       "      <th>verified_reviews</th>\n",
       "      <th>feedback</th>\n",
       "      <th>length</th>\n",
       "      <th>reviews</th>\n",
       "    </tr>\n",
       "  </thead>\n",
       "  <tbody>\n",
       "    <tr>\n",
       "      <th>0</th>\n",
       "      <td>5</td>\n",
       "      <td>31-Jul-18</td>\n",
       "      <td>Echo</td>\n",
       "      <td>Love my Echo!</td>\n",
       "      <td>1</td>\n",
       "      <td>13</td>\n",
       "      <td>love echo</td>\n",
       "    </tr>\n",
       "    <tr>\n",
       "      <th>1</th>\n",
       "      <td>5</td>\n",
       "      <td>31-Jul-18</td>\n",
       "      <td>Echo</td>\n",
       "      <td>Loved it!</td>\n",
       "      <td>1</td>\n",
       "      <td>9</td>\n",
       "      <td>love</td>\n",
       "    </tr>\n",
       "    <tr>\n",
       "      <th>2</th>\n",
       "      <td>4</td>\n",
       "      <td>31-Jul-18</td>\n",
       "      <td>Echo</td>\n",
       "      <td>Sometimes while playing a game, you can answer...</td>\n",
       "      <td>1</td>\n",
       "      <td>195</td>\n",
       "      <td>sometimes play game answer question correctly ...</td>\n",
       "    </tr>\n",
       "    <tr>\n",
       "      <th>3</th>\n",
       "      <td>5</td>\n",
       "      <td>31-Jul-18</td>\n",
       "      <td>Echo</td>\n",
       "      <td>I have had a lot of fun with this thing. My 4 ...</td>\n",
       "      <td>1</td>\n",
       "      <td>172</td>\n",
       "      <td>lot fun thing yr old learn dinosaur control li...</td>\n",
       "    </tr>\n",
       "    <tr>\n",
       "      <th>4</th>\n",
       "      <td>5</td>\n",
       "      <td>31-Jul-18</td>\n",
       "      <td>Echo</td>\n",
       "      <td>Music</td>\n",
       "      <td>1</td>\n",
       "      <td>5</td>\n",
       "      <td>music</td>\n",
       "    </tr>\n",
       "  </tbody>\n",
       "</table>\n",
       "</div>"
      ],
      "text/plain": [
       "   rating       date variation  \\\n",
       "0       5  31-Jul-18      Echo   \n",
       "1       5  31-Jul-18      Echo   \n",
       "2       4  31-Jul-18      Echo   \n",
       "3       5  31-Jul-18      Echo   \n",
       "4       5  31-Jul-18      Echo   \n",
       "\n",
       "                                    verified_reviews  feedback  length  \\\n",
       "0                                      Love my Echo!         1      13   \n",
       "1                                          Loved it!         1       9   \n",
       "2  Sometimes while playing a game, you can answer...         1     195   \n",
       "3  I have had a lot of fun with this thing. My 4 ...         1     172   \n",
       "4                                              Music         1       5   \n",
       "\n",
       "                                             reviews  \n",
       "0                                          love echo  \n",
       "1                                               love  \n",
       "2  sometimes play game answer question correctly ...  \n",
       "3  lot fun thing yr old learn dinosaur control li...  \n",
       "4                                              music  "
      ]
     },
     "execution_count": 11,
     "metadata": {},
     "output_type": "execute_result"
    }
   ],
   "source": [
    "# Echo\n",
    "echo_df = alexa_df[alexa_df['variation'] == 'Echo']\n",
    "echo_df.head()"
   ]
  },
  {
   "cell_type": "code",
   "execution_count": 12,
   "metadata": {
    "scrolled": true
   },
   "outputs": [
    {
     "data": {
      "text/plain": [
       "5    788\n",
       "4    146\n",
       "1     49\n",
       "3     46\n",
       "2     23\n",
       "Name: rating, dtype: int64"
      ]
     },
     "execution_count": 12,
     "metadata": {},
     "output_type": "execute_result"
    }
   ],
   "source": [
    "echo_df['rating'].value_counts()"
   ]
  },
  {
   "cell_type": "code",
   "execution_count": 13,
   "metadata": {},
   "outputs": [],
   "source": [
    "pickle.dump(echo_df, open(\"echo.pkl\", \"wb\" ))"
   ]
  },
  {
   "cell_type": "code",
   "execution_count": 14,
   "metadata": {},
   "outputs": [
    {
     "data": {
      "text/html": [
       "<div>\n",
       "<style scoped>\n",
       "    .dataframe tbody tr th:only-of-type {\n",
       "        vertical-align: middle;\n",
       "    }\n",
       "\n",
       "    .dataframe tbody tr th {\n",
       "        vertical-align: top;\n",
       "    }\n",
       "\n",
       "    .dataframe thead th {\n",
       "        text-align: right;\n",
       "    }\n",
       "</style>\n",
       "<table border=\"1\" class=\"dataframe\">\n",
       "  <thead>\n",
       "    <tr style=\"text-align: right;\">\n",
       "      <th></th>\n",
       "      <th>rating</th>\n",
       "      <th>date</th>\n",
       "      <th>variation</th>\n",
       "      <th>verified_reviews</th>\n",
       "      <th>feedback</th>\n",
       "      <th>length</th>\n",
       "      <th>reviews</th>\n",
       "    </tr>\n",
       "  </thead>\n",
       "  <tbody>\n",
       "    <tr>\n",
       "      <th>2450</th>\n",
       "      <td>5</td>\n",
       "      <td>31-Jul-18</td>\n",
       "      <td>Echo Dot</td>\n",
       "      <td>I set her up to play through our home theater ...</td>\n",
       "      <td>1</td>\n",
       "      <td>152</td>\n",
       "      <td>set play home theater system fat use weather f...</td>\n",
       "    </tr>\n",
       "    <tr>\n",
       "      <th>2451</th>\n",
       "      <td>5</td>\n",
       "      <td>31-Jul-18</td>\n",
       "      <td>Echo Dot</td>\n",
       "      <td>Small device that my kids like to ask question...</td>\n",
       "      <td>1</td>\n",
       "      <td>80</td>\n",
       "      <td>small device kid like ask question handy frien...</td>\n",
       "    </tr>\n",
       "    <tr>\n",
       "      <th>2452</th>\n",
       "      <td>5</td>\n",
       "      <td>31-Jul-18</td>\n",
       "      <td>Echo Dot</td>\n",
       "      <td>beyond awesome</td>\n",
       "      <td>1</td>\n",
       "      <td>14</td>\n",
       "      <td>beyond awesome</td>\n",
       "    </tr>\n",
       "    <tr>\n",
       "      <th>2453</th>\n",
       "      <td>5</td>\n",
       "      <td>31-Jul-18</td>\n",
       "      <td>Echo Dot</td>\n",
       "      <td>I like that it responds every time. It was eas...</td>\n",
       "      <td>1</td>\n",
       "      <td>135</td>\n",
       "      <td>like respond every time easy set still learn m...</td>\n",
       "    </tr>\n",
       "    <tr>\n",
       "      <th>2454</th>\n",
       "      <td>5</td>\n",
       "      <td>31-Jul-18</td>\n",
       "      <td>Echo Dot</td>\n",
       "      <td>Family loved it!</td>\n",
       "      <td>1</td>\n",
       "      <td>16</td>\n",
       "      <td>family love</td>\n",
       "    </tr>\n",
       "  </tbody>\n",
       "</table>\n",
       "</div>"
      ],
      "text/plain": [
       "      rating       date variation  \\\n",
       "2450       5  31-Jul-18  Echo Dot   \n",
       "2451       5  31-Jul-18  Echo Dot   \n",
       "2452       5  31-Jul-18  Echo Dot   \n",
       "2453       5  31-Jul-18  Echo Dot   \n",
       "2454       5  31-Jul-18  Echo Dot   \n",
       "\n",
       "                                       verified_reviews  feedback  length  \\\n",
       "2450  I set her up to play through our home theater ...         1     152   \n",
       "2451  Small device that my kids like to ask question...         1      80   \n",
       "2452                                     beyond awesome         1      14   \n",
       "2453  I like that it responds every time. It was eas...         1     135   \n",
       "2454                                   Family loved it!         1      16   \n",
       "\n",
       "                                                reviews  \n",
       "2450  set play home theater system fat use weather f...  \n",
       "2451  small device kid like ask question handy frien...  \n",
       "2452                                     beyond awesome  \n",
       "2453  like respond every time easy set still learn m...  \n",
       "2454                                        family love  "
      ]
     },
     "execution_count": 14,
     "metadata": {},
     "output_type": "execute_result"
    }
   ],
   "source": [
    "# Dot \n",
    "dot_df = alexa_df[alexa_df['variation'] == 'Echo Dot']\n",
    "dot_df.head()"
   ]
  },
  {
   "cell_type": "code",
   "execution_count": 15,
   "metadata": {},
   "outputs": [
    {
     "data": {
      "text/plain": [
       "5    486\n",
       "4    120\n",
       "3     46\n",
       "1     32\n",
       "2     16\n",
       "Name: rating, dtype: int64"
      ]
     },
     "execution_count": 15,
     "metadata": {},
     "output_type": "execute_result"
    }
   ],
   "source": [
    "dot_df['rating'].value_counts()"
   ]
  },
  {
   "cell_type": "code",
   "execution_count": 16,
   "metadata": {},
   "outputs": [],
   "source": [
    "pickle.dump(dot_df, open(\"echo_dot.pkl\", \"wb\" ))"
   ]
  },
  {
   "cell_type": "code",
   "execution_count": 17,
   "metadata": {},
   "outputs": [
    {
     "data": {
      "text/html": [
       "<div>\n",
       "<style scoped>\n",
       "    .dataframe tbody tr th:only-of-type {\n",
       "        vertical-align: middle;\n",
       "    }\n",
       "\n",
       "    .dataframe tbody tr th {\n",
       "        vertical-align: top;\n",
       "    }\n",
       "\n",
       "    .dataframe thead th {\n",
       "        text-align: right;\n",
       "    }\n",
       "</style>\n",
       "<table border=\"1\" class=\"dataframe\">\n",
       "  <thead>\n",
       "    <tr style=\"text-align: right;\">\n",
       "      <th></th>\n",
       "      <th>rating</th>\n",
       "      <th>date</th>\n",
       "      <th>variation</th>\n",
       "      <th>verified_reviews</th>\n",
       "      <th>feedback</th>\n",
       "      <th>length</th>\n",
       "      <th>reviews</th>\n",
       "    </tr>\n",
       "  </thead>\n",
       "  <tbody>\n",
       "    <tr>\n",
       "      <th>1400</th>\n",
       "      <td>5</td>\n",
       "      <td>31-Jul-18</td>\n",
       "      <td>Echo Show</td>\n",
       "      <td>I love love love love it!  I feel like I have ...</td>\n",
       "      <td>1</td>\n",
       "      <td>90</td>\n",
       "      <td>love love love love feel like talk computer te...</td>\n",
       "    </tr>\n",
       "    <tr>\n",
       "      <th>1401</th>\n",
       "      <td>5</td>\n",
       "      <td>31-Jul-18</td>\n",
       "      <td>Echo Show</td>\n",
       "      <td>Love the Echo Show.  Being able to see the lyr...</td>\n",
       "      <td>1</td>\n",
       "      <td>137</td>\n",
       "      <td>love echo show able see lyric song play able p...</td>\n",
       "    </tr>\n",
       "    <tr>\n",
       "      <th>1402</th>\n",
       "      <td>3</td>\n",
       "      <td>31-Jul-18</td>\n",
       "      <td>Echo Show</td>\n",
       "      <td>It seems to work well.  Unfortunately a lot of...</td>\n",
       "      <td>1</td>\n",
       "      <td>459</td>\n",
       "      <td>seem work well unfortunately lot functionality...</td>\n",
       "    </tr>\n",
       "    <tr>\n",
       "      <th>1403</th>\n",
       "      <td>5</td>\n",
       "      <td>31-Jul-18</td>\n",
       "      <td>Echo Show</td>\n",
       "      <td>Love listening to music. Still trying to learn...</td>\n",
       "      <td>1</td>\n",
       "      <td>66</td>\n",
       "      <td>love listening music still try learn everything</td>\n",
       "    </tr>\n",
       "    <tr>\n",
       "      <th>1404</th>\n",
       "      <td>4</td>\n",
       "      <td>31-Jul-18</td>\n",
       "      <td>Echo Show</td>\n",
       "      <td>Very pleasedSimple to figure out</td>\n",
       "      <td>1</td>\n",
       "      <td>32</td>\n",
       "      <td>pleasedsimple figure</td>\n",
       "    </tr>\n",
       "  </tbody>\n",
       "</table>\n",
       "</div>"
      ],
      "text/plain": [
       "      rating       date  variation  \\\n",
       "1400       5  31-Jul-18  Echo Show   \n",
       "1401       5  31-Jul-18  Echo Show   \n",
       "1402       3  31-Jul-18  Echo Show   \n",
       "1403       5  31-Jul-18  Echo Show   \n",
       "1404       4  31-Jul-18  Echo Show   \n",
       "\n",
       "                                       verified_reviews  feedback  length  \\\n",
       "1400  I love love love love it!  I feel like I have ...         1      90   \n",
       "1401  Love the Echo Show.  Being able to see the lyr...         1     137   \n",
       "1402  It seems to work well.  Unfortunately a lot of...         1     459   \n",
       "1403  Love listening to music. Still trying to learn...         1      66   \n",
       "1404                   Very pleasedSimple to figure out         1      32   \n",
       "\n",
       "                                                reviews  \n",
       "1400  love love love love feel like talk computer te...  \n",
       "1401  love echo show able see lyric song play able p...  \n",
       "1402  seem work well unfortunately lot functionality...  \n",
       "1403    love listening music still try learn everything  \n",
       "1404                               pleasedsimple figure  "
      ]
     },
     "execution_count": 17,
     "metadata": {},
     "output_type": "execute_result"
    }
   ],
   "source": [
    "# Echo Show\n",
    "show_df = alexa_df[alexa_df['variation'] == 'Echo Show']\n",
    "show_df.head()"
   ]
  },
  {
   "cell_type": "code",
   "execution_count": 18,
   "metadata": {},
   "outputs": [
    {
     "data": {
      "text/plain": [
       "5    247\n",
       "4     57\n",
       "1     18\n",
       "3     17\n",
       "2     11\n",
       "Name: rating, dtype: int64"
      ]
     },
     "execution_count": 18,
     "metadata": {},
     "output_type": "execute_result"
    }
   ],
   "source": [
    "show_df['rating'].value_counts()"
   ]
  },
  {
   "cell_type": "code",
   "execution_count": 19,
   "metadata": {},
   "outputs": [],
   "source": [
    "pickle.dump(show_df, open(\"echo_show.pkl\", \"wb\" ))"
   ]
  },
  {
   "cell_type": "code",
   "execution_count": 20,
   "metadata": {
    "scrolled": true
   },
   "outputs": [
    {
     "data": {
      "text/html": [
       "<div>\n",
       "<style scoped>\n",
       "    .dataframe tbody tr th:only-of-type {\n",
       "        vertical-align: middle;\n",
       "    }\n",
       "\n",
       "    .dataframe tbody tr th {\n",
       "        vertical-align: top;\n",
       "    }\n",
       "\n",
       "    .dataframe thead th {\n",
       "        text-align: right;\n",
       "    }\n",
       "</style>\n",
       "<table border=\"1\" class=\"dataframe\">\n",
       "  <thead>\n",
       "    <tr style=\"text-align: right;\">\n",
       "      <th></th>\n",
       "      <th>rating</th>\n",
       "      <th>date</th>\n",
       "      <th>variation</th>\n",
       "      <th>verified_reviews</th>\n",
       "      <th>feedback</th>\n",
       "      <th>length</th>\n",
       "      <th>reviews</th>\n",
       "    </tr>\n",
       "  </thead>\n",
       "  <tbody>\n",
       "    <tr>\n",
       "      <th>1050</th>\n",
       "      <td>5</td>\n",
       "      <td>31-Jul-18</td>\n",
       "      <td>Echo Spot</td>\n",
       "      <td>I used the product for my phone to look up the...</td>\n",
       "      <td>1</td>\n",
       "      <td>71</td>\n",
       "      <td>use product phone look weather watch video</td>\n",
       "    </tr>\n",
       "    <tr>\n",
       "      <th>1051</th>\n",
       "      <td>4</td>\n",
       "      <td>31-Jul-18</td>\n",
       "      <td>Echo Spot</td>\n",
       "      <td>Don’t use it for much as I thought we would. S...</td>\n",
       "      <td>1</td>\n",
       "      <td>218</td>\n",
       "      <td>do not use much think sync kasa cam use check ...</td>\n",
       "    </tr>\n",
       "    <tr>\n",
       "      <th>1052</th>\n",
       "      <td>5</td>\n",
       "      <td>30-Jul-18</td>\n",
       "      <td>Echo Spot</td>\n",
       "      <td>Amazing so far. Just got it the other day.</td>\n",
       "      <td>1</td>\n",
       "      <td>42</td>\n",
       "      <td>amazing far get day</td>\n",
       "    </tr>\n",
       "    <tr>\n",
       "      <th>1053</th>\n",
       "      <td>4</td>\n",
       "      <td>30-Jul-18</td>\n",
       "      <td>Echo Spot</td>\n",
       "      <td>I like that it's smaller, but it has never und...</td>\n",
       "      <td>1</td>\n",
       "      <td>108</td>\n",
       "      <td>like small never understand command easily fir...</td>\n",
       "    </tr>\n",
       "    <tr>\n",
       "      <th>1054</th>\n",
       "      <td>4</td>\n",
       "      <td>30-Jul-18</td>\n",
       "      <td>Echo Spot</td>\n",
       "      <td>Worthy successor to the echo dot and right at ...</td>\n",
       "      <td>1</td>\n",
       "      <td>139</td>\n",
       "      <td>worthy successor echo dot right home bed room ...</td>\n",
       "    </tr>\n",
       "  </tbody>\n",
       "</table>\n",
       "</div>"
      ],
      "text/plain": [
       "      rating       date  variation  \\\n",
       "1050       5  31-Jul-18  Echo Spot   \n",
       "1051       4  31-Jul-18  Echo Spot   \n",
       "1052       5  30-Jul-18  Echo Spot   \n",
       "1053       4  30-Jul-18  Echo Spot   \n",
       "1054       4  30-Jul-18  Echo Spot   \n",
       "\n",
       "                                       verified_reviews  feedback  length  \\\n",
       "1050  I used the product for my phone to look up the...         1      71   \n",
       "1051  Don’t use it for much as I thought we would. S...         1     218   \n",
       "1052         Amazing so far. Just got it the other day.         1      42   \n",
       "1053  I like that it's smaller, but it has never und...         1     108   \n",
       "1054  Worthy successor to the echo dot and right at ...         1     139   \n",
       "\n",
       "                                                reviews  \n",
       "1050         use product phone look weather watch video  \n",
       "1051  do not use much think sync kasa cam use check ...  \n",
       "1052                                amazing far get day  \n",
       "1053  like small never understand command easily fir...  \n",
       "1054  worthy successor echo dot right home bed room ...  "
      ]
     },
     "execution_count": 20,
     "metadata": {},
     "output_type": "execute_result"
    }
   ],
   "source": [
    "# Echo Spot\n",
    "spot_df = alexa_df[alexa_df['variation'] == 'Echo Spot']\n",
    "spot_df.head()"
   ]
  },
  {
   "cell_type": "code",
   "execution_count": 21,
   "metadata": {},
   "outputs": [
    {
     "data": {
      "text/plain": [
       "5    241\n",
       "4     48\n",
       "1     27\n",
       "3     17\n",
       "2     17\n",
       "Name: rating, dtype: int64"
      ]
     },
     "execution_count": 21,
     "metadata": {},
     "output_type": "execute_result"
    }
   ],
   "source": [
    "spot_df['rating'].value_counts()"
   ]
  },
  {
   "cell_type": "code",
   "execution_count": 22,
   "metadata": {},
   "outputs": [],
   "source": [
    "pickle.dump(spot_df, open(\"echo_spot.pkl\", \"wb\" ))"
   ]
  },
  {
   "cell_type": "code",
   "execution_count": 23,
   "metadata": {},
   "outputs": [
    {
     "data": {
      "text/html": [
       "<div>\n",
       "<style scoped>\n",
       "    .dataframe tbody tr th:only-of-type {\n",
       "        vertical-align: middle;\n",
       "    }\n",
       "\n",
       "    .dataframe tbody tr th {\n",
       "        vertical-align: top;\n",
       "    }\n",
       "\n",
       "    .dataframe thead th {\n",
       "        text-align: right;\n",
       "    }\n",
       "</style>\n",
       "<table border=\"1\" class=\"dataframe\">\n",
       "  <thead>\n",
       "    <tr style=\"text-align: right;\">\n",
       "      <th></th>\n",
       "      <th>rating</th>\n",
       "      <th>date</th>\n",
       "      <th>variation</th>\n",
       "      <th>verified_reviews</th>\n",
       "      <th>feedback</th>\n",
       "      <th>length</th>\n",
       "      <th>reviews</th>\n",
       "    </tr>\n",
       "  </thead>\n",
       "  <tbody>\n",
       "    <tr>\n",
       "      <th>1750</th>\n",
       "      <td>4</td>\n",
       "      <td>31-Jul-18</td>\n",
       "      <td>Echo Plus</td>\n",
       "      <td>We use Alexa primarily for listening to music ...</td>\n",
       "      <td>1</td>\n",
       "      <td>205</td>\n",
       "      <td>use alexa primarily listen music check weather...</td>\n",
       "    </tr>\n",
       "    <tr>\n",
       "      <th>1751</th>\n",
       "      <td>5</td>\n",
       "      <td>31-Jul-18</td>\n",
       "      <td>Echo Plus</td>\n",
       "      <td>Plug n Play set up is simple. Added battery ba...</td>\n",
       "      <td>1</td>\n",
       "      <td>103</td>\n",
       "      <td>plug n play set simple add battery base make p...</td>\n",
       "    </tr>\n",
       "    <tr>\n",
       "      <th>1752</th>\n",
       "      <td>5</td>\n",
       "      <td>30-Jul-18</td>\n",
       "      <td>Echo Plus</td>\n",
       "      <td>Great speaker i n this! I love this so much mo...</td>\n",
       "      <td>1</td>\n",
       "      <td>126</td>\n",
       "      <td>great speaker n love much alexa tap -PRON- ’s ...</td>\n",
       "    </tr>\n",
       "    <tr>\n",
       "      <th>1753</th>\n",
       "      <td>4</td>\n",
       "      <td>30-Jul-18</td>\n",
       "      <td>Echo Plus</td>\n",
       "      <td>She's [Alexa] a bit dense and still learning t...</td>\n",
       "      <td>1</td>\n",
       "      <td>99</td>\n",
       "      <td>alexa bit dense still learn way phrase thing n...</td>\n",
       "    </tr>\n",
       "    <tr>\n",
       "      <th>1754</th>\n",
       "      <td>5</td>\n",
       "      <td>30-Jul-18</td>\n",
       "      <td>Echo Plus</td>\n",
       "      <td>Great sound and easy to set up. Purchased the ...</td>\n",
       "      <td>1</td>\n",
       "      <td>155</td>\n",
       "      <td>great sound easy set purchase echo plus build ...</td>\n",
       "    </tr>\n",
       "  </tbody>\n",
       "</table>\n",
       "</div>"
      ],
      "text/plain": [
       "      rating       date  variation  \\\n",
       "1750       4  31-Jul-18  Echo Plus   \n",
       "1751       5  31-Jul-18  Echo Plus   \n",
       "1752       5  30-Jul-18  Echo Plus   \n",
       "1753       4  30-Jul-18  Echo Plus   \n",
       "1754       5  30-Jul-18  Echo Plus   \n",
       "\n",
       "                                       verified_reviews  feedback  length  \\\n",
       "1750  We use Alexa primarily for listening to music ...         1     205   \n",
       "1751  Plug n Play set up is simple. Added battery ba...         1     103   \n",
       "1752  Great speaker i n this! I love this so much mo...         1     126   \n",
       "1753  She's [Alexa] a bit dense and still learning t...         1      99   \n",
       "1754  Great sound and easy to set up. Purchased the ...         1     155   \n",
       "\n",
       "                                                reviews  \n",
       "1750  use alexa primarily listen music check weather...  \n",
       "1751  plug n play set simple add battery base make p...  \n",
       "1752  great speaker n love much alexa tap -PRON- ’s ...  \n",
       "1753  alexa bit dense still learn way phrase thing n...  \n",
       "1754  great sound easy set purchase echo plus build ...  "
      ]
     },
     "execution_count": 23,
     "metadata": {},
     "output_type": "execute_result"
    }
   ],
   "source": [
    "# Echo plus\n",
    "plus_df = alexa_df[alexa_df['variation'] == 'Echo Plus']\n",
    "plus_df.head()"
   ]
  },
  {
   "cell_type": "code",
   "execution_count": 24,
   "metadata": {},
   "outputs": [
    {
     "data": {
      "text/plain": [
       "5    242\n",
       "4     50\n",
       "1     22\n",
       "3     20\n",
       "2     14\n",
       "Name: rating, dtype: int64"
      ]
     },
     "execution_count": 24,
     "metadata": {},
     "output_type": "execute_result"
    }
   ],
   "source": [
    "plus_df['rating'].value_counts()"
   ]
  },
  {
   "cell_type": "code",
   "execution_count": 25,
   "metadata": {},
   "outputs": [],
   "source": [
    "pickle.dump(plus_df, open(\"echo_plus.pkl\", \"wb\" ))"
   ]
  },
  {
   "cell_type": "code",
   "execution_count": null,
   "metadata": {},
   "outputs": [],
   "source": []
  },
  {
   "cell_type": "markdown",
   "metadata": {},
   "source": [
    "### Sentiment Features"
   ]
  },
  {
   "cell_type": "code",
   "execution_count": 26,
   "metadata": {},
   "outputs": [
    {
     "data": {
      "text/html": [
       "<div>\n",
       "<style scoped>\n",
       "    .dataframe tbody tr th:only-of-type {\n",
       "        vertical-align: middle;\n",
       "    }\n",
       "\n",
       "    .dataframe tbody tr th {\n",
       "        vertical-align: top;\n",
       "    }\n",
       "\n",
       "    .dataframe thead th {\n",
       "        text-align: right;\n",
       "    }\n",
       "</style>\n",
       "<table border=\"1\" class=\"dataframe\">\n",
       "  <thead>\n",
       "    <tr style=\"text-align: right;\">\n",
       "      <th></th>\n",
       "      <th>rating</th>\n",
       "      <th>date</th>\n",
       "      <th>variation</th>\n",
       "      <th>verified_reviews</th>\n",
       "      <th>feedback</th>\n",
       "      <th>length</th>\n",
       "      <th>reviews</th>\n",
       "    </tr>\n",
       "  </thead>\n",
       "  <tbody>\n",
       "    <tr>\n",
       "      <th>0</th>\n",
       "      <td>5</td>\n",
       "      <td>31-Jul-18</td>\n",
       "      <td>Echo</td>\n",
       "      <td>Love my Echo!</td>\n",
       "      <td>1</td>\n",
       "      <td>13</td>\n",
       "      <td>love echo</td>\n",
       "    </tr>\n",
       "    <tr>\n",
       "      <th>1</th>\n",
       "      <td>5</td>\n",
       "      <td>31-Jul-18</td>\n",
       "      <td>Echo</td>\n",
       "      <td>Loved it!</td>\n",
       "      <td>1</td>\n",
       "      <td>9</td>\n",
       "      <td>love</td>\n",
       "    </tr>\n",
       "    <tr>\n",
       "      <th>2</th>\n",
       "      <td>4</td>\n",
       "      <td>31-Jul-18</td>\n",
       "      <td>Echo</td>\n",
       "      <td>Sometimes while playing a game, you can answer...</td>\n",
       "      <td>1</td>\n",
       "      <td>195</td>\n",
       "      <td>sometimes play game answer question correctly ...</td>\n",
       "    </tr>\n",
       "    <tr>\n",
       "      <th>3</th>\n",
       "      <td>5</td>\n",
       "      <td>31-Jul-18</td>\n",
       "      <td>Echo</td>\n",
       "      <td>I have had a lot of fun with this thing. My 4 ...</td>\n",
       "      <td>1</td>\n",
       "      <td>172</td>\n",
       "      <td>lot fun thing yr old learn dinosaur control li...</td>\n",
       "    </tr>\n",
       "    <tr>\n",
       "      <th>4</th>\n",
       "      <td>5</td>\n",
       "      <td>31-Jul-18</td>\n",
       "      <td>Echo</td>\n",
       "      <td>Music</td>\n",
       "      <td>1</td>\n",
       "      <td>5</td>\n",
       "      <td>music</td>\n",
       "    </tr>\n",
       "  </tbody>\n",
       "</table>\n",
       "</div>"
      ],
      "text/plain": [
       "   rating       date variation  \\\n",
       "0       5  31-Jul-18      Echo   \n",
       "1       5  31-Jul-18      Echo   \n",
       "2       4  31-Jul-18      Echo   \n",
       "3       5  31-Jul-18      Echo   \n",
       "4       5  31-Jul-18      Echo   \n",
       "\n",
       "                                    verified_reviews  feedback  length  \\\n",
       "0                                      Love my Echo!         1      13   \n",
       "1                                          Loved it!         1       9   \n",
       "2  Sometimes while playing a game, you can answer...         1     195   \n",
       "3  I have had a lot of fun with this thing. My 4 ...         1     172   \n",
       "4                                              Music         1       5   \n",
       "\n",
       "                                             reviews  \n",
       "0                                          love echo  \n",
       "1                                               love  \n",
       "2  sometimes play game answer question correctly ...  \n",
       "3  lot fun thing yr old learn dinosaur control li...  \n",
       "4                                              music  "
      ]
     },
     "execution_count": 26,
     "metadata": {},
     "output_type": "execute_result"
    }
   ],
   "source": [
    "alexa_df.head()"
   ]
  },
  {
   "cell_type": "code",
   "execution_count": 29,
   "metadata": {},
   "outputs": [],
   "source": [
    "from sklearn.feature_selection import chi2\n",
    "from sklearn.feature_extraction.text import TfidfVectorizer"
   ]
  },
  {
   "cell_type": "code",
   "execution_count": 27,
   "metadata": {},
   "outputs": [],
   "source": [
    "neg_alexa = alexa_df[alexa_df['rating']<3]\n",
    "pos_alexa = alexa_df[alexa_df['rating']>3]"
   ]
  },
  {
   "cell_type": "markdown",
   "metadata": {},
   "source": [
    "### negative words"
   ]
  },
  {
   "cell_type": "code",
   "execution_count": 31,
   "metadata": {},
   "outputs": [],
   "source": [
    "tfidf_n = TfidfVectorizer(ngram_range=(2, 2))\n",
    "X_tfidf_n = tfidf_n.fit_transform(neg_alexa['reviews'])\n",
    "y_n = neg_alexa['rating']\n",
    "chi2score_n = chi2(X_tfidf_n, y_n)[0]"
   ]
  },
  {
   "cell_type": "code",
   "execution_count": 59,
   "metadata": {},
   "outputs": [
    {
     "data": {
      "image/png": "[encoded data removed]",
      "text/plain": [
       "<Figure size 1152x648 with 1 Axes>"
      ]
     },
     "metadata": {
      "needs_background": "light"
     },
     "output_type": "display_data"
    },
    {
     "data": {
      "text/plain": [
       "''"
      ]
     },
     "execution_count": 59,
     "metadata": {},
     "output_type": "execute_result"
    },
    {
     "data": {
      "text/plain": [
       "<Figure size 432x288 with 0 Axes>"
      ]
     },
     "metadata": {},
     "output_type": "display_data"
    }
   ],
   "source": [
    "scores = list(zip(tfidf_n.get_feature_names(), chi2score_n))\n",
    "chi2_n = sorted(scores, key=lambda x:x[1])\n",
    "topchi2_n = list(zip(*chi2_n[-10:]))\n",
    "x_n=range(len(topchi2_n[1]))\n",
    "\n",
    "fig, ax = plt.subplots(figsize=(16,9))\n",
    "ax.barh(x_n, topchi2_n[1], align='center', alpha=1, color='#5C94B2')\n",
    "\n",
    "plt.title('Echo Negative Feedback', fontsize=24, weight='bold')\n",
    "\n",
    "# x-axis\n",
    "plt.xlabel(\"Feature Score\", fontsize=22, weight='bold')\n",
    "plt.xticks(fontsize=18)\n",
    "\n",
    "#y-axis\n",
    "labels = topchi2_n[0]\n",
    "plt.yticks(x_n, labels, fontsize=18)\n",
    "\n",
    "ax.spines['right'].set_visible(False)\n",
    "ax.spines['top'].set_visible(False)\n",
    "ax.spines['bottom'].set_visible(True)\n",
    "ax.spines['left'].set_visible(True)\n",
    "\n",
    "fig = plt.gcf()\n",
    "plt.show()\n",
    "plt.draw()\n",
    "\n",
    "fig.savefig('alexa_neg.jpg')\n",
    ";"
   ]
  },
  {
   "cell_type": "markdown",
   "metadata": {},
   "source": [
    "### positive words"
   ]
  },
  {
   "cell_type": "code",
   "execution_count": 35,
   "metadata": {},
   "outputs": [],
   "source": [
    "tfidf = TfidfVectorizer(ngram_range=(2, 2))\n",
    "X_tfidf = tfidf.fit_transform(pos_alexa['reviews'])\n",
    "y = pos_alexa['rating']\n",
    "chi2score = chi2(X_tfidf, y)[0]"
   ]
  },
  {
   "cell_type": "code",
   "execution_count": 58,
   "metadata": {},
   "outputs": [
    {
     "data": {
      "image/png": "[encoded data removed]",
      "text/plain": [
       "<Figure size 1152x648 with 1 Axes>"
      ]
     },
     "metadata": {
      "needs_background": "light"
     },
     "output_type": "display_data"
    },
    {
     "data": {
      "text/plain": [
       "''"
      ]
     },
     "execution_count": 58,
     "metadata": {},
     "output_type": "execute_result"
    },
    {
     "data": {
      "text/plain": [
       "<Figure size 432x288 with 0 Axes>"
      ]
     },
     "metadata": {},
     "output_type": "display_data"
    }
   ],
   "source": [
    "scores = list(zip(tfidf.get_feature_names(), chi2score))\n",
    "chi2 = sorted(scores, key=lambda x:x[1])\n",
    "topchi2 = list(zip(*chi2[-10:]))\n",
    "x=range(len(topchi2[1]))\n",
    "\n",
    "fig, ax = plt.subplots(figsize=(16,9))\n",
    "ax.barh(x,topchi2[1], alpha=1, color='#0070C0')\n",
    "\n",
    "plt.title('Echo Postive Feedback', fontsize=24, weight='bold')\n",
    "\n",
    "# x-axis\n",
    "plt.xlabel(\"Feature Score\", fontsize=22, weight='bold')\n",
    "plt.xticks(fontsize=18)\n",
    "\n",
    "#y-axis\n",
    "labels = topchi2[0]\n",
    "plt.yticks(x, labels, fontsize=18)\n",
    "\n",
    "ax.spines['right'].set_visible(False)\n",
    "ax.spines['top'].set_visible(False)\n",
    "ax.spines['bottom'].set_visible(True)\n",
    "ax.spines['left'].set_visible(True)\n",
    "\n",
    "fig = plt.gcf()\n",
    "plt.show()\n",
    "plt.draw()\n",
    "\n",
    "fig.savefig('alexa_positive.jpg')\n",
    ";"
   ]
  },
  {
   "cell_type": "code",
   "execution_count": null,
   "metadata": {},
   "outputs": [],
   "source": []
  }
 ],
 "metadata": {
  "kernelspec": {
   "display_name": "Python 3",
   "language": "python",
   "name": "python3"
  },
  "language_info": {
   "codemirror_mode": {
    "name": "ipython",
    "version": 3
   },
   "file_extension": ".py",
   "mimetype": "text/x-python",
   "name": "python",
   "nbconvert_exporter": "python",
   "pygments_lexer": "ipython3",
   "version": "3.7.3"
  }
 },
 "nbformat": 4,
 "nbformat_minor": 2
}
